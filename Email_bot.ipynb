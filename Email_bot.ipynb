{
  "nbformat": 4,
  "nbformat_minor": 0,
  "metadata": {
    "colab": {
      "provenance": []
    },
    "kernelspec": {
      "name": "python3",
      "display_name": "Python 3"
    },
    "language_info": {
      "name": "python"
    }
  },
  "cells": [
    {
      "cell_type": "code",
      "source": [
        "!pip install groq"
      ],
      "metadata": {
        "id": "_n90Pw1jvv1F"
      },
      "execution_count": null,
      "outputs": []
    },
    {
      "cell_type": "code",
      "source": [
        "from groq import Groq"
      ],
      "metadata": {
        "id": "Aw-wRtGlwItv"
      },
      "execution_count": null,
      "outputs": []
    },
    {
      "cell_type": "code",
      "source": [
        "groq_client = Groq(\n",
        "    api_key=\"your groq api key\",\n",
        ")"
      ],
      "metadata": {
        "id": "CQmGyOIIwOcF"
      },
      "execution_count": null,
      "outputs": []
    },
    {
      "cell_type": "code",
      "source": [
        "llama_70B = \"llama-3.1-70b-versatile\"\n",
        "llama_405B = \"llama-3.1-405b-reasoning\""
      ],
      "metadata": {
        "id": "j0krq53Cwrpy"
      },
      "execution_count": 7,
      "outputs": []
    },
    {
      "cell_type": "code",
      "source": [
        "!pip install -q together"
      ],
      "metadata": {
        "id": "rG8Iz4hbyA3k"
      },
      "execution_count": null,
      "outputs": []
    },
    {
      "cell_type": "code",
      "source": [
        "from together import Together"
      ],
      "metadata": {
        "id": "772fa1Sxx1u2"
      },
      "execution_count": 8,
      "outputs": []
    },
    {
      "cell_type": "code",
      "source": [
        "together_client = Together(api_key=\"your-api-key\")"
      ],
      "metadata": {
        "id": "FcXxyIn2x2IP"
      },
      "execution_count": 9,
      "outputs": []
    },
    {
      "cell_type": "code",
      "source": [
        "def get_user_input():\n",
        "  user_input = input(\"Please enter the industry or company you want to target: \")\n",
        "  return user_input"
      ],
      "metadata": {
        "id": "bz62Mg0E2zEc"
      },
      "execution_count": 2,
      "outputs": []
    },
    {
      "cell_type": "code",
      "source": [
        "!pip install openai"
      ],
      "metadata": {
        "id": "wnhHkWRm21On"
      },
      "execution_count": null,
      "outputs": []
    },
    {
      "cell_type": "code",
      "source": [
        "from openai import OpenAI"
      ],
      "metadata": {
        "id": "TjQrhWpK3sjs"
      },
      "execution_count": null,
      "outputs": []
    },
    {
      "cell_type": "code",
      "source": [
        "openai_client = OpenAI(\n",
        "    api_key=\"you-api-key\",\n",
        "    base_url=\"https://api.perplexity.ai\"\n",
        ")"
      ],
      "metadata": {
        "id": "IGPicFt63xcO"
      },
      "execution_count": null,
      "outputs": []
    },
    {
      "cell_type": "code",
      "source": [
        "def query_agent(target):\n",
        "    response = together_client.chat.completions.create(\n",
        "        model=\"meta-llama/Meta-Llama-3.1-405B-Instruct-Turbo\",\n",
        "        messages=[\n",
        "            {\n",
        "                \"role\": \"system\",\n",
        "                \"content\": \"\"\"You are an AI assistant that writes concise search queries for market research.\n",
        "                Create 4 short search queries based on the given target industry or company.\n",
        "                Query 01: biggest pain points faced by this avatar\n",
        "                Query 02: biggest companies in this industry\n",
        "                Query 03: how companies in this industry get clients\n",
        "                Query 04: where to find companeis in this industry online\n",
        "                IMPORTANT: Respond with only the queries, one per line.\"\"\"\n",
        "            },\n",
        "            {\n",
        "                \"role\": \"user\",\n",
        "                \"content\": f\"Here's the industry / company to perform market research on: #### {target} ####\"\n",
        "            }\n",
        "        ],\n",
        "        max_tokens=150,\n",
        "        temperature=0.7,\n",
        "        top_p=1,\n",
        "        top_k=50,\n",
        "        repetition_penalty=1,\n",
        "        stop=[\"<|eot_id|>\"]\n",
        "    )\n",
        "    queries = response.choices[0].message.content.split('\\n')\n",
        "    return [query.strip() for query in queries if query.strip()]"
      ],
      "metadata": {
        "id": "Rgi9M1Y68DtB"
      },
      "execution_count": 10,
      "outputs": []
    },
    {
      "cell_type": "code",
      "source": [
        "def web_search_agent(query):\n",
        "    response = openai_client.chat.completions.create(\n",
        "        model=\"llama-3-sonar-large-32k-online\",\n",
        "        messages=[\n",
        "            {\"role\": \"system\", \"content\": \"You are a web search assistant. Provide a concise summary of the search results.\"},\n",
        "            {\"role\": \"user\", \"content\": f\"Search the web for: {query}\"}\n",
        "        ],\n",
        "    )\n",
        "    return response.choices[0].message.content"
      ],
      "metadata": {
        "id": "XTxeasLzAPQH"
      },
      "execution_count": null,
      "outputs": []
    },
    {
      "cell_type": "code",
      "source": [
        "# Example usage\n",
        "search_results = []\n",
        "for query in generated_queries:\n",
        "    print(\"Searching for...\", query)\n",
        "    result = web_search_agent(query)\n",
        "    search_results.append(result)"
      ],
      "metadata": {
        "id": "29wA8wooAORh"
      },
      "execution_count": null,
      "outputs": []
    },
    {
      "cell_type": "code",
      "source": [
        "search_results"
      ],
      "metadata": {
        "id": "7rbWb4rGCSw9"
      },
      "execution_count": null,
      "outputs": []
    },
    {
      "cell_type": "code",
      "source": [
        "def cold_email_agent(target, search_results):\n",
        "    # Combine all search results into a single string\n",
        "    combined_results = \"\\n\".join(search_results)\n",
        "\n",
        "    response = together_client.chat.completions.create(\n",
        "        model=\"meta-llama/Meta-Llama-3.1-405B-Instruct-Turbo\",\n",
        "        messages=[\n",
        "            {\n",
        "                \"role\": \"system\",\n",
        "                \"content\": \"\"\"You are an expert cold email writer.\n",
        "                Your task is to write concise and personalized cold emails based on the Market Research given to you.\n",
        "                Make sure to utilize all 4 areas of the research I(pain points, companies, clients, and online sources)\n",
        "                Focus on describing what the target company will get, add an appealing guarantee.\n",
        "                Keep the email concise and use plain English.\n",
        "                DO NOT OUTPUT ANY OTHER TEXT !!! ONLY THE COLD EMAIL ITSELF!.\n",
        "                \"\"\"\n",
        "            },\n",
        "            {\n",
        "                \"role\": \"user\",\n",
        "                \"content\": f\"Here is the target company: {target} \\n Here is the market research: #### {combined_results} #### ONLY OUTPUT THE EMAIL ITSELF. NO OTHER TEXT!!\"\n",
        "            }\n",
        "        ],\n",
        "        max_tokens=500,\n",
        "        temperature=0.1,\n",
        "        top_p=1,\n",
        "        top_k=50,\n",
        "        repetition_penalty=1,\n",
        "        stop=[\"<|eot_id|>\"]\n",
        "    )\n",
        "\n",
        "    return response.choices[0].message.content"
      ],
      "metadata": {
        "id": "hpjmlPuHAtvE"
      },
      "execution_count": null,
      "outputs": []
    },
    {
      "cell_type": "code",
      "source": [
        "user_input = get_user_input()"
      ],
      "metadata": {
        "colab": {
          "base_uri": "https://localhost:8080/"
        },
        "id": "oNghIsz1Dhix",
        "outputId": "b241f697-9cfd-4bdb-b05b-6c64f6e65dec"
      },
      "execution_count": 3,
      "outputs": [
        {
          "name": "stdout",
          "output_type": "stream",
          "text": [
            "Please enter the industry or company you want to target: IT company in Vadodara\n"
          ]
        }
      ]
    },
    {
      "cell_type": "code",
      "source": [
        "generated_queries = query_agent(user_input)\n",
        "generated_queries"
      ],
      "metadata": {
        "colab": {
          "base_uri": "https://localhost:8080/"
        },
        "id": "LdocS43EDsFq",
        "outputId": "b45960e5-e792-4ee0-d2d2-e185e0a0eec4"
      },
      "execution_count": 11,
      "outputs": [
        {
          "output_type": "execute_result",
          "data": {
            "text/plain": [
              "['biggest pain points faced by IT companies in Vadodara',\n",
              " 'largest IT companies in Vadodara',\n",
              " 'client acquisition strategies for IT companies in Vadodara',\n",
              " 'list of IT companies in Vadodara on LinkedIn or Crunchbase']"
            ]
          },
          "metadata": {},
          "execution_count": 11
        }
      ]
    },
    {
      "cell_type": "code",
      "source": [
        "search_results = []\n",
        "for query in generated_queries:\n",
        "    print(\"Searching for...\", query)\n",
        "    result = web_search_agent(query)\n",
        "    search_results.append(result)"
      ],
      "metadata": {
        "colab": {
          "base_uri": "https://localhost:8080/"
        },
        "id": "g_qGjOjBD02Z",
        "outputId": "264a81b9-d1de-4b65-f228-3af8c5cb783a"
      },
      "execution_count": 12,
      "outputs": [
        {
          "output_type": "stream",
          "name": "stdout",
          "text": [
            "Searching for... biggest pain points faced by IT companies in Vadodara\n",
            "Searching for... largest IT companies in Vadodara\n",
            "Searching for... client acquisition strategies for IT companies in Vadodara\n",
            "Searching for... list of IT companies in Vadodara on LinkedIn or Crunchbase\n"
          ]
        }
      ]
    },
    {
      "cell_type": "code",
      "source": [
        "cold_email = cold_email_agent(user_input, search_results)\n",
        "print(cold_email)"
      ],
      "metadata": {
        "colab": {
          "base_uri": "https://localhost:8080/"
        },
        "id": "bKlUtSZrDLv9",
        "outputId": "7ef51e6b-745b-4f6b-e619-b258c0a73b99"
      },
      "execution_count": 13,
      "outputs": [
        {
          "output_type": "stream",
          "name": "stdout",
          "text": [
            "Subject: Boost Your Client Acquisition with Our Proven Strategies\n",
            "Hi [Recipient's Name],\n",
            "I hope this message finds you well! I’m reaching out to share how we can help your IT company in Vadodara tackle one of the biggest challenges in the industry: customer acquisition.\n",
            "Many IT firms in your area face significant hurdles in attracting and retaining clients, often due to intense competition and the evolving demands of the market. Our tailored strategies focus on enhancing your visibility and engagement, ensuring you stand out to potential clients.\n",
            "By partnering with us, you can expect:\n",
            "* Increased Client Acquisition: We specialize in strategies that have proven successful for IT companies, helping you attract more clients effectively.\n",
            "* Customized Solutions: Our approach is tailored to your specific needs, ensuring that we address your unique pain points.\n",
            "* Satisfaction Guarantee: If you don’t see an increase in client inquiries within the first three months, we’ll work for free until you do.\n",
            "Let’s schedule a quick call to discuss how we can help your company grow. Looking forward to your response!\n",
            "Best regards,\n",
            "[Your Name]\n",
            "[Your Position]\n",
            "[Your Company]\n",
            "[Your Contact Information]\n"
          ]
        }
      ]
    },
    {
      "cell_type": "code",
      "source": [],
      "metadata": {
        "id": "Q6SK8Wk_Exue"
      },
      "execution_count": null,
      "outputs": []
    }
  ]
}